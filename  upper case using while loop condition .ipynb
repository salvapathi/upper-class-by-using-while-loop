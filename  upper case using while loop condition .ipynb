{
 "cells": [
  {
   "cell_type": "code",
   "execution_count": 1,
   "id": "582cf87f",
   "metadata": {},
   "outputs": [
    {
     "name": "stdout",
     "output_type": "stream",
     "text": [
      "@@@@@\n",
      "@   @\n",
      "@@@@@\n",
      "@   @\n",
      "@   @\n"
     ]
    }
   ],
   "source": [
    "#for to print a\n",
    "a=1\n",
    "while a<=5:\n",
    "    if a==1:\n",
    "        print(\"@@@@@\")\n",
    "    elif a==2:\n",
    "        print(\"@   @\")\n",
    "    elif a==3:\n",
    "        print(\"@@@@@\")\n",
    "    elif a==4:\n",
    "        print(\"@   @\")\n",
    "    elif a==5:\n",
    "        print(\"@   @\")\n",
    "    a=a+1\n",
    "    \n",
    "        \n",
    "    \n",
    "    \n",
    "    "
   ]
  },
  {
   "cell_type": "code",
   "execution_count": 29,
   "id": "04293a01",
   "metadata": {},
   "outputs": [
    {
     "name": "stdout",
     "output_type": "stream",
     "text": [
      "bbbbb\n",
      "b    b\n",
      "bbbbb\n",
      "b    b\n",
      "bbbbb\n"
     ]
    }
   ],
   "source": [
    "a=1\n",
    "while a<=5:\n",
    "    if a==1:\n",
    "        print(\"bbbbb\")\n",
    "    elif a==2:\n",
    "        print(\"b    b\")\n",
    "    elif a==3:\n",
    "        print(\"bbbbb\")\n",
    "    elif a==4:\n",
    "        print(\"b    b\")   \n",
    "    elif a==5:\n",
    "        print(\"bbbbb\")\n",
    "    a=a+1"
   ]
  },
  {
   "cell_type": "code",
   "execution_count": 30,
   "id": "3c5abed3",
   "metadata": {},
   "outputs": [
    {
     "name": "stdout",
     "output_type": "stream",
     "text": [
      "  cccc\n",
      " c   \n",
      " c   \n",
      " c   \n",
      "  cccc\n"
     ]
    }
   ],
   "source": [
    "#c\n",
    "a=1\n",
    "while a<=5:\n",
    "    if a==1:\n",
    "        print(\"  cccc\")\n",
    "    elif a==2:\n",
    "        print(\" c   \")\n",
    "    elif a==3:\n",
    "        print(\" c   \")\n",
    "    elif a==4:\n",
    "        print(\" c   \")\n",
    "    elif a==5:\n",
    "        print(\"  cccc\")\n",
    "    a=a+1"
   ]
  },
  {
   "cell_type": "code",
   "execution_count": 31,
   "id": "103db285",
   "metadata": {},
   "outputs": [
    {
     "name": "stdout",
     "output_type": "stream",
     "text": [
      "ddddd\n",
      "d     d\n",
      "d      d\n",
      "d      d\n",
      "d     d\n",
      "ddddd\n"
     ]
    }
   ],
   "source": [
    "#d\n",
    "a=1\n",
    "while a<=6:\n",
    "    if a==1:\n",
    "        print(\"ddddd\")\n",
    "    elif a==2:\n",
    "        print(\"d     d\")\n",
    "    elif a==3:\n",
    "        print(\"d      d\")\n",
    "    elif a==4:\n",
    "        print(\"d      d\")\n",
    "    elif a==5:\n",
    "        print(\"d     d\")\n",
    "    elif a==6:\n",
    "        print(\"ddddd\")\n",
    "    a=a+1\n"
   ]
  },
  {
   "cell_type": "code",
   "execution_count": 32,
   "id": "9a747d0f",
   "metadata": {},
   "outputs": [
    {
     "name": "stdout",
     "output_type": "stream",
     "text": [
      "eeeeee\n",
      "e\n",
      "e\n",
      "eeeeee\n",
      "e\n",
      "e\n",
      "eeeeee\n"
     ]
    }
   ],
   "source": [
    "a=1\n",
    "while a<=7:\n",
    "    if a==1:\n",
    "        print(\"eeeeee\")\n",
    "    if a==2:\n",
    "        print(\"e\")\n",
    "    if a==3:\n",
    "        print(\"e\")\n",
    "    if a==4:\n",
    "        print(\"eeeeee\")\n",
    "    if a==5:\n",
    "        print(\"e\")\n",
    "    if a==6:\n",
    "        print(\"e\")\n",
    "    if a==7:\n",
    "        print(\"eeeeee\")\n",
    "    a=a+1"
   ]
  },
  {
   "cell_type": "code",
   "execution_count": 33,
   "id": "42707352",
   "metadata": {},
   "outputs": [
    {
     "name": "stdout",
     "output_type": "stream",
     "text": [
      "ffffff\n",
      "f\n",
      "f\n",
      "fffff\n",
      "f\n",
      "f\n",
      "f\n"
     ]
    }
   ],
   "source": [
    "#f\n",
    "a=1\n",
    "while a<=7:\n",
    "    if a==1:\n",
    "        print(\"ffffff\")\n",
    "    if a==2:\n",
    "        print(\"f\")\n",
    "    if a==3:\n",
    "        print(\"f\")\n",
    "    if a==4:\n",
    "        print(\"fffff\")\n",
    "    if a==5:\n",
    "        print(\"f\")\n",
    "    if a==6:\n",
    "        print(\"f\")\n",
    "    if a==7:\n",
    "        print(\"f\")\n",
    "    a=a+1\n",
    "    "
   ]
  },
  {
   "cell_type": "code",
   "execution_count": 34,
   "id": "c8093531",
   "metadata": {},
   "outputs": [
    {
     "name": "stdout",
     "output_type": "stream",
     "text": [
      "gggggg\n",
      "g    g\n",
      "g     \n",
      "g     \n",
      "g     gggg\n",
      "g    g   g\n",
      "gggggg   g\n"
     ]
    }
   ],
   "source": [
    "#G\n",
    "a=1\n",
    "while a<=7:\n",
    "    if a==1:\n",
    "        print(\"gggggg\")\n",
    "    elif a==2:\n",
    "        print(\"g    g\")\n",
    "    elif a==3:\n",
    "        print(\"g     \")\n",
    "    elif a==4:\n",
    "        print(\"g     \")\n",
    "    elif a==5:\n",
    "        print(\"g     gggg\")\n",
    "    elif a==6:\n",
    "        print(\"g    g   g\")\n",
    "    elif a==7:\n",
    "        print(\"gggggg   g\")\n",
    "    a=a+1"
   ]
  },
  {
   "cell_type": "code",
   "execution_count": 36,
   "id": "c98278f3",
   "metadata": {},
   "outputs": [
    {
     "name": "stdout",
     "output_type": "stream",
     "text": [
      "h    h\n",
      "h    h\n",
      "hhhhhh\n",
      "h    h\n",
      "h    h\n"
     ]
    }
   ],
   "source": [
    "#H\n",
    "a=1\n",
    "while a<=5:\n",
    "    if a==1:\n",
    "        print(\"h    h\")\n",
    "    elif a==2:\n",
    "        print(\"h    h\")\n",
    "    elif a==3:\n",
    "        print(\"hhhhhh\")\n",
    "    elif a==4:\n",
    "        print(\"h    h\")\n",
    "    elif a==4:\n",
    "        print(\"h    h\")\n",
    "    elif a==5:\n",
    "        print(\"h    h\")\n",
    "    a=a+1\n",
    "        \n",
    "        \n",
    "         "
   ]
  },
  {
   "cell_type": "code",
   "execution_count": 35,
   "id": "ae8c14b5",
   "metadata": {},
   "outputs": [
    {
     "name": "stdout",
     "output_type": "stream",
     "text": [
      "iiiiii\n",
      "   i\n",
      "   i\n",
      "   i\n",
      "   i\n",
      "   i\n",
      "iiiiii\n"
     ]
    }
   ],
   "source": [
    "a=1\n",
    "while a<=7:\n",
    "    if a==1:\n",
    "        print(\"iiiiii\")\n",
    "    elif a==2:\n",
    "        print(\"   i\")\n",
    "    elif a==3:\n",
    "        print(\"   i\")\n",
    "    elif a==4:\n",
    "        print(\"   i\")\n",
    "    elif a==5:\n",
    "        print(\"   i\")\n",
    "    elif a==6:\n",
    "        print(\"   i\")\n",
    "    elif a==7:\n",
    "        print(\"iiiiii\")\n",
    "    a=a+1\n",
    "        \n",
    "        \n",
    "        "
   ]
  },
  {
   "cell_type": "code",
   "execution_count": 37,
   "id": "0fbf46e3",
   "metadata": {},
   "outputs": [
    {
     "name": "stdout",
     "output_type": "stream",
     "text": [
      "jjjjjj\n",
      "   j  \n",
      "   j  \n",
      "   j  \n",
      "   j  \n",
      "j  j    \n",
      "jjjj \n"
     ]
    }
   ],
   "source": [
    "#j\n",
    "a=1\n",
    "while a<=7:\n",
    "    if a==1:\n",
    "        print(\"jjjjjj\")\n",
    "    elif a==2:\n",
    "        print(\"   j  \")\n",
    "    elif a==3:\n",
    "        print(\"   j  \")\n",
    "    elif a==4:\n",
    "        print(\"   j  \")\n",
    "    elif a==5:\n",
    "        print(\"   j  \")\n",
    "    elif a==6:\n",
    "        print(\"j  j    \")\n",
    "    elif a==7:\n",
    "        print(\"jjjj \")\n",
    "    a=a+1\n",
    "    \n",
    "    \n",
    "\n"
   ]
  },
  {
   "cell_type": "code",
   "execution_count": 38,
   "id": "d52a15a0",
   "metadata": {},
   "outputs": [
    {
     "name": "stdout",
     "output_type": "stream",
     "text": [
      "k   k\n",
      "k k\n",
      "kk\n",
      "k k\n",
      "k   k\n"
     ]
    }
   ],
   "source": [
    "#k\n",
    "a=1\n",
    "while a<=5:\n",
    "    if a==1:\n",
    "        print(\"k   k\")\n",
    "    elif a==2:\n",
    "        print(\"k k\")\n",
    "    elif a==3:\n",
    "        print(\"kk\")\n",
    "    elif a==4:\n",
    "        print(\"k k\")\n",
    "    elif a==5:\n",
    "        print(\"k   k\")\n",
    "    a=a+1\n",
    "    \n",
    "       \n",
    "       \n",
    "   "
   ]
  },
  {
   "cell_type": "code",
   "execution_count": 39,
   "id": "45d84fb7",
   "metadata": {},
   "outputs": [
    {
     "name": "stdout",
     "output_type": "stream",
     "text": [
      "l\n",
      "l\n",
      "l\n",
      "l\n",
      "llllll\n"
     ]
    }
   ],
   "source": [
    "#l\n",
    "a=1\n",
    "while a<=5:\n",
    "    if a==1:\n",
    "        print(\"l\")\n",
    "    elif a==2:\n",
    "        print(\"l\")\n",
    "    elif a==3:\n",
    "        print(\"l\")\n",
    "    elif a==4:\n",
    "        print(\"l\")\n",
    "    elif a==5:\n",
    "        print(\"llllll\")\n",
    "    a=a+1"
   ]
  },
  {
   "cell_type": "code",
   "execution_count": 40,
   "id": "5eff6d68",
   "metadata": {},
   "outputs": [
    {
     "name": "stdout",
     "output_type": "stream",
     "text": [
      "m      m\n",
      "m m m  m\n",
      "m  m   m\n",
      "m      m\n",
      "m      m\n"
     ]
    }
   ],
   "source": [
    "#m\n",
    "a=1\n",
    "while a<=5:\n",
    "    if a==1:\n",
    "        print(\"m      m\")\n",
    "    elif a==2:\n",
    "        print(\"m m m  m\")\n",
    "    elif a==3:\n",
    "        print(\"m  m   m\")\n",
    "    elif a==4:\n",
    "        print(\"m      m\")\n",
    "    elif a==5:\n",
    "        print(\"m      m\")\n",
    "    a=a+1\n"
   ]
  },
  {
   "cell_type": "code",
   "execution_count": 41,
   "id": "11fa9a25",
   "metadata": {},
   "outputs": [
    {
     "name": "stdout",
     "output_type": "stream",
     "text": [
      "n       n\n",
      "n n     n\n",
      "n  n    n\n",
      "n     n n\n",
      "n       n\n"
     ]
    }
   ],
   "source": [
    "#N\n",
    "a=1\n",
    "while a<=5:\n",
    "    if a==1:\n",
    "        print(\"n       n\")\n",
    "    elif a==2:\n",
    "        print(\"n n     n\")\n",
    "    elif a==3:\n",
    "        print(\"n  n    n\")\n",
    "    elif a==4:\n",
    "        print(\"n     n n\")\n",
    "    elif a==5:\n",
    "        print(\"n       n\")\n",
    "    a=a+1\n"
   ]
  },
  {
   "cell_type": "code",
   "execution_count": 42,
   "id": "1f84d585",
   "metadata": {},
   "outputs": [
    {
     "name": "stdout",
     "output_type": "stream",
     "text": [
      "   ooo   \n",
      "o       o\n",
      "o       o\n",
      "o       o\n",
      "o       o\n",
      "   ooo   \n"
     ]
    }
   ],
   "source": [
    "#o\n",
    "a=1\n",
    "while a<=6:\n",
    "    if a==1:\n",
    "        print(\"   ooo   \")\n",
    "    elif a==2:\n",
    "        print(\"o       o\")\n",
    "    elif a==3:\n",
    "        print(\"o       o\")\n",
    "    elif a==4:\n",
    "        print(\"o       o\")\n",
    "    elif a==5:\n",
    "        print(\"o       o\")\n",
    "    elif a==6:\n",
    "        print(\"   ooo   \")\n",
    "        \n",
    "    a=a+1\n"
   ]
  },
  {
   "cell_type": "code",
   "execution_count": 43,
   "id": "bccd9785",
   "metadata": {},
   "outputs": [
    {
     "name": "stdout",
     "output_type": "stream",
     "text": [
      "p p\n",
      "p    p\n",
      "p     p\n",
      "p    p\n",
      "p p\n",
      "p   \n",
      "p\n"
     ]
    }
   ],
   "source": [
    "#p\n",
    "a=1\n",
    "while a<=7:\n",
    "    if a==1:\n",
    "        print(\"p p\")\n",
    "    elif a==2:\n",
    "        print(\"p    p\")\n",
    "    elif a==3:\n",
    "        print(\"p     p\")\n",
    "    elif a==4:\n",
    "        print(\"p    p\")\n",
    "    elif a==5:\n",
    "        print(\"p p\")\n",
    "    elif a==6:\n",
    "        print(\"p   \")\n",
    "    elif a==7:\n",
    "        print(\"p\")\n",
    "        \n",
    "    a=a+1\n"
   ]
  },
  {
   "cell_type": "code",
   "execution_count": 44,
   "id": "1430705e",
   "metadata": {},
   "outputs": [
    {
     "name": "stdout",
     "output_type": "stream",
     "text": [
      "   qqqq \n",
      "q        q\n",
      "q  q     q\n",
      "q    q   q\n",
      "   qqqq  q   \n",
      "          q\n",
      "            q   \n"
     ]
    }
   ],
   "source": [
    "#\n",
    "a=1\n",
    "while a<=7:\n",
    "    if a==1:\n",
    "        print(\"   qqqq \")\n",
    "    elif a==2:\n",
    "        print(\"q        q\")\n",
    "    elif a==3:\n",
    "        print(\"q  q     q\")\n",
    "    elif a==4:\n",
    "        print(\"q    q   q\")\n",
    "    elif a==5:\n",
    "        print(\"   qqqq  q   \")\n",
    "    elif a==6:\n",
    "        print(\"          q\")\n",
    "    elif a==7:\n",
    "        print(\"            q   \")\n",
    "        \n",
    "    a=a+1\n",
    "\n",
    "\n"
   ]
  },
  {
   "cell_type": "code",
   "execution_count": 45,
   "id": "986daaf6",
   "metadata": {},
   "outputs": [
    {
     "name": "stdout",
     "output_type": "stream",
     "text": [
      " rrrrr  \n",
      "r       r\n",
      "r       r\n",
      "r    r\n",
      "r r \n",
      "r  r\n",
      "r    r\n",
      "r     r\n"
     ]
    }
   ],
   "source": [
    "a=1\n",
    "while a<=8:\n",
    "    if a==1:\n",
    "        print(\" rrrrr  \")\n",
    "    elif a==2:\n",
    "        print(\"r       r\")\n",
    "    elif a==3:\n",
    "        print(\"r       r\")\n",
    "    elif a==4:\n",
    "        print(\"r    r\")\n",
    "    elif a==5:\n",
    "        print(\"r r \")\n",
    "    elif a==6:\n",
    "        print(\"r  r\")\n",
    "    elif a==7:\n",
    "        print(\"r    r\")\n",
    "    elif a==8:\n",
    "        print(\"r     r\")\n",
    "    a=a+1\n",
    "        "
   ]
  },
  {
   "cell_type": "code",
   "execution_count": 46,
   "id": "c5cc2eec",
   "metadata": {},
   "outputs": [
    {
     "name": "stdout",
     "output_type": "stream",
     "text": [
      "u           u\n",
      "u           u\n",
      "u           u\n",
      "u           u\n",
      "u           u\n",
      "u           u\n",
      "u           u  \n",
      "u u u u u u u \n"
     ]
    }
   ],
   "source": [
    "#u\n",
    "a=1\n",
    "while a<=8:\n",
    "    if a==1:\n",
    "        print(\"u           u\")\n",
    "    elif a==2:\n",
    "        print(\"u           u\")\n",
    "    elif a==3:\n",
    "        print(\"u           u\")\n",
    "    elif a==4:\n",
    "        print(\"u           u\")\n",
    "    elif a==5:\n",
    "        print(\"u           u\")\n",
    "    elif a==6:\n",
    "        print(\"u           u\")\n",
    "    elif a==7:\n",
    "        print(\"u           u  \")\n",
    "    elif a==8:\n",
    "        print(\"u u u u u u u \")\n",
    "    a=a+1\n",
    "   \n",
    "\n"
   ]
  },
  {
   "cell_type": "code",
   "execution_count": 47,
   "id": "91d5be41",
   "metadata": {},
   "outputs": [
    {
     "name": "stdout",
     "output_type": "stream",
     "text": [
      "v           v\n",
      " v         v\n",
      "  v       v\n",
      "   v     v\n",
      "    v   v\n",
      "      v   \n"
     ]
    }
   ],
   "source": [
    "a=1\n",
    "while a<=6:\n",
    "    if a==1:\n",
    "        print(\"v           v\")\n",
    "    elif a==2:\n",
    "        print(\" v         v\")\n",
    "    elif a==3:\n",
    "        print(\"  v       v\")        \n",
    "    elif a==4:\n",
    "        print(\"   v     v\")\n",
    "    elif a==5:\n",
    "        print(\"    v   v\")\n",
    "    elif a==6:\n",
    "        print(\"      v   \")\n",
    "    \n",
    "    a=a+1\n",
    "   "
   ]
  },
  {
   "cell_type": "code",
   "execution_count": 48,
   "id": "c444c272",
   "metadata": {},
   "outputs": [
    {
     "name": "stdout",
     "output_type": "stream",
     "text": [
      "w           w              w                              \n",
      " w         w   w          w                          \n",
      "  w       w      w       w                      \n",
      "   w     w        w     w                   \n",
      "    w   w          w   w                \n",
      "      w              w      \n"
     ]
    }
   ],
   "source": [
    "a=1\n",
    "while a<=6:\n",
    "    if a==1:\n",
    "        print(\"w           w              w                              \")\n",
    "    elif a==2:\n",
    "        print(\" w         w   w          w                          \")\n",
    "    elif a==3:\n",
    "        print(\"  w       w      w       w                      \")        \n",
    "    elif a==4:\n",
    "        print(\"   w     w        w     w                   \")\n",
    "    elif a==5:\n",
    "        print(\"    w   w          w   w                \")\n",
    "    elif a==6:\n",
    "        print(\"      w              w      \")\n",
    "    \n",
    "    a=a+1\n",
    "   "
   ]
  },
  {
   "cell_type": "code",
   "execution_count": 60,
   "id": "e626a9df",
   "metadata": {},
   "outputs": [
    {
     "name": "stdout",
     "output_type": "stream",
     "text": [
      "x            x\n",
      "  x        x\n",
      "    x    x\n",
      "       x   \n",
      "    x    x  \n",
      "  x        x    \n",
      "x            x\n"
     ]
    }
   ],
   "source": [
    "a=1\n",
    "while a<=7:\n",
    "    if a==1:\n",
    "        print(\"x            x\")\n",
    "    elif a==2:\n",
    "        print(\"  x        x\")\n",
    "    elif a==3:\n",
    "        print(\"    x    x\")        \n",
    "    elif a==4:\n",
    "        print(\"       x   \"   )\n",
    "    elif a==5:\n",
    "        print(\"    x    x  \")\n",
    "    elif a==6:\n",
    "        print(\"  x        x    \")\n",
    "    elif a==7:\n",
    "        print(\"x            x\")\n",
    "    \n",
    "    a=a+1\n",
    "   "
   ]
  },
  {
   "cell_type": "code",
   "execution_count": 61,
   "id": "fc2d4274",
   "metadata": {},
   "outputs": [
    {
     "name": "stdout",
     "output_type": "stream",
     "text": [
      "x            x\n",
      "  x        x\n",
      "    x    x\n",
      "       x  \n",
      "    x \n",
      "  x\n",
      "x\n"
     ]
    }
   ],
   "source": [
    "a=1\n",
    "while a<=7:\n",
    "    if a==1:\n",
    "        print(\"x            x\")\n",
    "    elif a==2:\n",
    "        print(\"  x        x\")\n",
    "    elif a==3:\n",
    "        print(\"    x    x\")        \n",
    "    elif a==4:\n",
    "        print(\"       x  \")\n",
    "    elif a==5:\n",
    "        print(\"    x \")   \n",
    "    elif a==6:\n",
    "        print(\"  x\")      \n",
    "    elif a==7:\n",
    "        print(\"x\")         \n",
    "    \n",
    "    a=a+1"
   ]
  },
  {
   "cell_type": "code",
   "execution_count": 68,
   "id": "6e5b65de",
   "metadata": {},
   "outputs": [
    {
     "name": "stdout",
     "output_type": "stream",
     "text": [
      "z z z z z z\n",
      "        z\n",
      "      z\n",
      "  z  \n",
      "z z z z z z  \n"
     ]
    }
   ],
   "source": [
    "a=1\n",
    "while a<=7:\n",
    "    if a==1:\n",
    "        print(\"z z z z z z\")\n",
    "    elif a==2:\n",
    "        print(\"        z\")\n",
    "    elif a==3:\n",
    "        print(\"      z\")        \n",
    "    elif a==4: \n",
    "        print(\"  z  \")\n",
    "    elif a==5:\n",
    "        print(\"z z z z z z  \")   \n",
    "    \n",
    "    a=a+1"
   ]
  },
  {
   "cell_type": "code",
   "execution_count": null,
   "id": "aee8b195",
   "metadata": {},
   "outputs": [],
   "source": []
  }
 ],
 "metadata": {
  "kernelspec": {
   "display_name": "Python 3 (ipykernel)",
   "language": "python",
   "name": "python3"
  },
  "language_info": {
   "codemirror_mode": {
    "name": "ipython",
    "version": 3
   },
   "file_extension": ".py",
   "mimetype": "text/x-python",
   "name": "python",
   "nbconvert_exporter": "python",
   "pygments_lexer": "ipython3",
   "version": "3.9.13"
  }
 },
 "nbformat": 4,
 "nbformat_minor": 5
}
